{
 "cells": [
  {
   "cell_type": "code",
   "execution_count": 1,
   "metadata": {},
   "outputs": [
    {
     "name": "stderr",
     "output_type": "stream",
     "text": [
      "Using TensorFlow backend.\n"
     ]
    }
   ],
   "source": [
    "import tensorflow as tf \n",
    "import numpy as np\n",
    "from tensorflow import keras\n",
    "import os\n",
    "from keras.preprocessing import image\n",
    "import matplotlib.image as mpimg\n",
    "import matplotlib.pyplot as plt\n",
    "from tensorflow.keras.preprocessing.image import ImageDataGenerator\n",
    "import tensorflow_hub as hub"
   ]
  },
  {
   "cell_type": "code",
   "execution_count": 2,
   "metadata": {},
   "outputs": [
    {
     "name": "stdout",
     "output_type": "stream",
     "text": [
      "501\n",
      "646\n",
      "497\n",
      "495\n",
      "607\n"
     ]
    }
   ],
   "source": [
    "print(len(os.listdir('C:/Users/hp/Desktop/Download/train/daisy')))\n",
    "print(len(os.listdir('C:/Users/hp/Desktop/Download/train/dandelion')))\n",
    "print(len(os.listdir('C:/Users/hp/Desktop/Download/train/rose')))\n",
    "print(len(os.listdir('C:/Users/hp/Desktop/Download/train/sunflower')))\n",
    "print(len(os.listdir('C:/Users/hp/Desktop/Download/train/tulip')))"
   ]
  },
  {
   "cell_type": "code",
   "execution_count": 3,
   "metadata": {},
   "outputs": [],
   "source": [
    "model = tf.keras.Sequential([\n",
    "    tf.keras.layers.Conv2D(16, (3,3), activation='relu', input_shape=(150,150,3)),\n",
    "    tf.keras.layers.MaxPooling2D(2, 2),\n",
    "    tf.keras.layers.Conv2D(32, (3,3), activation='relu'),\n",
    "    tf.keras.layers.MaxPooling2D(2, 2),\n",
    "    tf.keras.layers.Dropout(0.3),\n",
    "    tf.keras.layers.Conv2D(64, (3,3), activation='relu'),\n",
    "    tf.keras.layers.MaxPooling2D(2,2),\n",
    "    tf.keras.layers.Conv2D(128, (3,3), activation='relu'),\n",
    "    tf.keras.layers.MaxPooling2D(2, 2),\n",
    "    tf.keras.layers.Conv2D(256, (3,3), activation='relu'),\n",
    "    tf.keras.layers.MaxPooling2D(2,2),\n",
    "    tf.keras.layers.Flatten(),\n",
    "    tf.keras.layers.Dense(512, activation='relu'),\n",
    "    tf.keras.layers.Dense(5, activation='softmax')\n",
    "])\n",
    "\n",
    "model.compile(optimizer = tf.keras.optimizers.RMSprop(lr=0.001),\n",
    "             loss='categorical_crossentropy',\n",
    "             metrics=['accuracy']\n",
    "             )\n"
   ]
  },
  {
   "cell_type": "code",
   "execution_count": 4,
   "metadata": {},
   "outputs": [
    {
     "name": "stdout",
     "output_type": "stream",
     "text": [
      "Model: \"sequential\"\n",
      "_________________________________________________________________\n",
      "Layer (type)                 Output Shape              Param #   \n",
      "=================================================================\n",
      "conv2d (Conv2D)              (None, 148, 148, 16)      448       \n",
      "_________________________________________________________________\n",
      "max_pooling2d (MaxPooling2D) (None, 74, 74, 16)        0         \n",
      "_________________________________________________________________\n",
      "conv2d_1 (Conv2D)            (None, 72, 72, 32)        4640      \n",
      "_________________________________________________________________\n",
      "max_pooling2d_1 (MaxPooling2 (None, 36, 36, 32)        0         \n",
      "_________________________________________________________________\n",
      "dropout (Dropout)            (None, 36, 36, 32)        0         \n",
      "_________________________________________________________________\n",
      "conv2d_2 (Conv2D)            (None, 34, 34, 64)        18496     \n",
      "_________________________________________________________________\n",
      "max_pooling2d_2 (MaxPooling2 (None, 17, 17, 64)        0         \n",
      "_________________________________________________________________\n",
      "conv2d_3 (Conv2D)            (None, 15, 15, 128)       73856     \n",
      "_________________________________________________________________\n",
      "max_pooling2d_3 (MaxPooling2 (None, 7, 7, 128)         0         \n",
      "_________________________________________________________________\n",
      "conv2d_4 (Conv2D)            (None, 5, 5, 256)         295168    \n",
      "_________________________________________________________________\n",
      "max_pooling2d_4 (MaxPooling2 (None, 2, 2, 256)         0         \n",
      "_________________________________________________________________\n",
      "flatten (Flatten)            (None, 1024)              0         \n",
      "_________________________________________________________________\n",
      "dense (Dense)                (None, 512)               524800    \n",
      "_________________________________________________________________\n",
      "dense_1 (Dense)              (None, 5)                 2565      \n",
      "=================================================================\n",
      "Total params: 919,973\n",
      "Trainable params: 919,973\n",
      "Non-trainable params: 0\n",
      "_________________________________________________________________\n"
     ]
    }
   ],
   "source": [
    "model.summary()"
   ]
  },
  {
   "cell_type": "code",
   "execution_count": 5,
   "metadata": {},
   "outputs": [
    {
     "name": "stdout",
     "output_type": "stream",
     "text": [
      "Found 2746 images belonging to 5 classes.\n"
     ]
    }
   ],
   "source": [
    "TRAINING_DIR = 'C:/Users/hp/Desktop/Download/train/'\n",
    "train_datagen = ImageDataGenerator(rescale=1/255,\n",
    "                                   rotation_range=40,\n",
    "                                   width_shift_range=0.2,\n",
    "                                   height_shift_range=0.2,                                   \n",
    "                                   zoom_range=0.2,\n",
    "                                   horizontal_flip=True)\n",
    "train_generator = train_datagen.flow_from_directory(TRAINING_DIR,\n",
    "                                                   target_size=(150,150),\n",
    "                                                   batch_size=102,\n",
    "                                                   class_mode='categorical')"
   ]
  },
  {
   "cell_type": "code",
   "execution_count": 6,
   "metadata": {},
   "outputs": [
    {
     "name": "stdout",
     "output_type": "stream",
     "text": [
      "WARNING:tensorflow:sample_weight modes were coerced from\n",
      "  ...\n",
      "    to  \n",
      "  ['...']\n",
      "Train for 27 steps\n",
      "Epoch 1/20\n",
      "27/27 [==============================] - 70s 3s/step - loss: 1.6808 - accuracy: 0.2633\n",
      "Epoch 2/20\n",
      "27/27 [==============================] - 69s 3s/step - loss: 1.4260 - accuracy: 0.3649\n",
      "Epoch 3/20\n",
      "27/27 [==============================] - 70s 3s/step - loss: 1.3051 - accuracy: 0.4221\n",
      "Epoch 4/20\n",
      "27/27 [==============================] - 70s 3s/step - loss: 1.2344 - accuracy: 0.4683\n",
      "Epoch 5/20\n",
      "27/27 [==============================] - 70s 3s/step - loss: 1.1673 - accuracy: 0.5047\n",
      "Epoch 6/20\n",
      "27/27 [==============================] - 72s 3s/step - loss: 1.1568 - accuracy: 0.5306\n",
      "Epoch 7/20\n",
      "27/27 [==============================] - 69s 3s/step - loss: 1.0928 - accuracy: 0.5470\n",
      "Epoch 8/20\n",
      "27/27 [==============================] - 69s 3s/step - loss: 1.0539 - accuracy: 0.5703\n",
      "Epoch 9/20\n",
      "27/27 [==============================] - 69s 3s/step - loss: 1.0439 - accuracy: 0.5776\n",
      "Epoch 10/20\n",
      "27/27 [==============================] - 69s 3s/step - loss: 0.9958 - accuracy: 0.5954\n",
      "Epoch 11/20\n",
      "27/27 [==============================] - 71s 3s/step - loss: 0.9847 - accuracy: 0.6060\n",
      "Epoch 12/20\n",
      "27/27 [==============================] - 69s 3s/step - loss: 0.9462 - accuracy: 0.6216\n",
      "Epoch 13/20\n",
      "27/27 [==============================] - 71s 3s/step - loss: 0.9548 - accuracy: 0.6213\n",
      "Epoch 14/20\n",
      "27/27 [==============================] - 69s 3s/step - loss: 0.9025 - accuracy: 0.6493\n",
      "Epoch 15/20\n",
      "27/27 [==============================] - 68s 3s/step - loss: 0.8811 - accuracy: 0.6449\n",
      "Epoch 16/20\n",
      "27/27 [==============================] - 67s 2s/step - loss: 0.8609 - accuracy: 0.6519\n",
      "Epoch 17/20\n",
      "27/27 [==============================] - 69s 3s/step - loss: 0.8466 - accuracy: 0.6704\n",
      "Epoch 18/20\n",
      "27/27 [==============================] - 67s 2s/step - loss: 0.8350 - accuracy: 0.6650\n",
      "Epoch 19/20\n",
      "27/27 [==============================] - 67s 2s/step - loss: 0.8284 - accuracy: 0.6668\n",
      "Epoch 20/20\n",
      "27/27 [==============================] - 68s 3s/step - loss: 0.8155 - accuracy: 0.6733\n"
     ]
    }
   ],
   "source": [
    "history = model.fit(\n",
    "    train_generator,\n",
    "    epochs=20,\n",
    "    verbose=1 \n",
    ")"
   ]
  },
  {
   "cell_type": "code",
   "execution_count": 7,
   "metadata": {},
   "outputs": [],
   "source": [
    "mobile_net_URL = 'https://tfhub.dev/google/tf2-preview/mobilenet_v2/feature_vector/4'"
   ]
  },
  {
   "cell_type": "code",
   "execution_count": 8,
   "metadata": {},
   "outputs": [],
   "source": [
    "feat_extractor = tf.keras.Sequential([\n",
    "    hub.KerasLayer(mobile_net_URL, input_shape=(224,224,3))\n",
    "])"
   ]
  },
  {
   "cell_type": "code",
   "execution_count": 9,
   "metadata": {},
   "outputs": [],
   "source": [
    "feat_extractor.trainable = False"
   ]
  },
  {
   "cell_type": "code",
   "execution_count": 10,
   "metadata": {},
   "outputs": [
    {
     "name": "stdout",
     "output_type": "stream",
     "text": [
      "Model: \"sequential_2\"\n",
      "_________________________________________________________________\n",
      "Layer (type)                 Output Shape              Param #   \n",
      "=================================================================\n",
      "sequential_1 (Sequential)    (None, 1280)              2257984   \n",
      "_________________________________________________________________\n",
      "dense_2 (Dense)              (None, 5)                 6405      \n",
      "=================================================================\n",
      "Total params: 2,264,389\n",
      "Trainable params: 6,405\n",
      "Non-trainable params: 2,257,984\n",
      "_________________________________________________________________\n"
     ]
    }
   ],
   "source": [
    "model_1 = tf.keras.Sequential([\n",
    "    feat_extractor,\n",
    "    tf.keras.layers.Dense(5, activation='softmax')\n",
    "])\n",
    "model_1.summary()"
   ]
  },
  {
   "cell_type": "code",
   "execution_count": 11,
   "metadata": {},
   "outputs": [],
   "source": [
    "model_1.compile(optimizer = tf.keras.optimizers.RMSprop(lr=0.001),\n",
    "             loss='categorical_crossentropy',\n",
    "             metrics=['accuracy']\n",
    "             )"
   ]
  },
  {
   "cell_type": "code",
   "execution_count": 12,
   "metadata": {},
   "outputs": [
    {
     "name": "stdout",
     "output_type": "stream",
     "text": [
      "Found 2746 images belonging to 5 classes.\n"
     ]
    }
   ],
   "source": [
    "train_generator_1 = train_datagen.flow_from_directory(TRAINING_DIR,\n",
    "                                                   target_size=(224,224),\n",
    "                                                   batch_size=102,\n",
    "                                                   class_mode='categorical')"
   ]
  },
  {
   "cell_type": "code",
   "execution_count": 13,
   "metadata": {},
   "outputs": [
    {
     "name": "stdout",
     "output_type": "stream",
     "text": [
      "WARNING:tensorflow:sample_weight modes were coerced from\n",
      "  ...\n",
      "    to  \n",
      "  ['...']\n"
     ]
    },
    {
     "name": "stderr",
     "output_type": "stream",
     "text": [
      "WARNING:tensorflow:sample_weight modes were coerced from\n",
      "  ...\n",
      "    to  \n",
      "  ['...']\n"
     ]
    },
    {
     "name": "stdout",
     "output_type": "stream",
     "text": [
      "Train for 27 steps\n",
      "Epoch 1/20\n",
      "27/27 [==============================] - 121s 4s/step - loss: 1.1834 - accuracy: 0.5528\n",
      "Epoch 2/20\n",
      "27/27 [==============================] - 115s 4s/step - loss: 0.6502 - accuracy: 0.7771\n",
      "Epoch 3/20\n",
      "27/27 [==============================] - 117s 4s/step - loss: 0.4996 - accuracy: 0.8237\n",
      "Epoch 4/20\n",
      "27/27 [==============================] - 116s 4s/step - loss: 0.4278 - accuracy: 0.8500\n",
      "Epoch 5/20\n",
      "27/27 [==============================] - 114s 4s/step - loss: 0.3911 - accuracy: 0.8602\n",
      "Epoch 6/20\n",
      "27/27 [==============================] - 116s 4s/step - loss: 0.3704 - accuracy: 0.8700\n",
      "Epoch 7/20\n",
      "27/27 [==============================] - 119s 4s/step - loss: 0.3356 - accuracy: 0.8853\n",
      "Epoch 8/20\n",
      "27/27 [==============================] - 115s 4s/step - loss: 0.3180 - accuracy: 0.8867\n",
      "Epoch 9/20\n",
      "27/27 [==============================] - 115s 4s/step - loss: 0.3136 - accuracy: 0.8878\n",
      "Epoch 10/20\n",
      "27/27 [==============================] - 115s 4s/step - loss: 0.3096 - accuracy: 0.8908\n",
      "Epoch 11/20\n",
      "27/27 [==============================] - 115s 4s/step - loss: 0.2837 - accuracy: 0.8995\n",
      "Epoch 12/20\n",
      "27/27 [==============================] - 116s 4s/step - loss: 0.2765 - accuracy: 0.9042\n",
      "Epoch 13/20\n",
      "27/27 [==============================] - 115s 4s/step - loss: 0.2777 - accuracy: 0.9009\n",
      "Epoch 14/20\n",
      "27/27 [==============================] - 116s 4s/step - loss: 0.2658 - accuracy: 0.9031\n",
      "Epoch 15/20\n",
      "27/27 [==============================] - 132s 5s/step - loss: 0.2374 - accuracy: 0.9159\n",
      "Epoch 16/20\n",
      "27/27 [==============================] - 117s 4s/step - loss: 0.2564 - accuracy: 0.9071\n",
      "Epoch 17/20\n",
      "27/27 [==============================] - 115s 4s/step - loss: 0.2409 - accuracy: 0.9090\n",
      "Epoch 18/20\n",
      "27/27 [==============================] - 114s 4s/step - loss: 0.2432 - accuracy: 0.9144\n",
      "Epoch 19/20\n",
      "27/27 [==============================] - 114s 4s/step - loss: 0.2360 - accuracy: 0.9177\n",
      "Epoch 20/20\n",
      "27/27 [==============================] - 114s 4s/step - loss: 0.2317 - accuracy: 0.9162\n"
     ]
    }
   ],
   "source": [
    "history_1 = model_1.fit(\n",
    "    train_generator_1,\n",
    "    epochs=20,\n",
    "    verbose=1 \n",
    ")"
   ]
  },
  {
   "cell_type": "code",
   "execution_count": null,
   "metadata": {},
   "outputs": [],
   "source": [
    " "
   ]
  },
  {
   "cell_type": "code",
   "execution_count": null,
   "metadata": {},
   "outputs": [],
   "source": [
    "  "
   ]
  }
 ],
 "metadata": {
  "kernelspec": {
   "display_name": "Python 3",
   "language": "python",
   "name": "python3"
  },
  "language_info": {
   "codemirror_mode": {
    "name": "ipython",
    "version": 3
   },
   "file_extension": ".py",
   "mimetype": "text/x-python",
   "name": "python",
   "nbconvert_exporter": "python",
   "pygments_lexer": "ipython3",
   "version": "3.7.7"
  }
 },
 "nbformat": 4,
 "nbformat_minor": 4
}
